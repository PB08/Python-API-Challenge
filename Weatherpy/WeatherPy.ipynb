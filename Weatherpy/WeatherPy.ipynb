{
 "cells": [
  {
   "cell_type": "markdown",
   "metadata": {},
   "source": [
    "# WeatherPy\n",
    "----\n",
    "\n",
    "#### Note\n",
    "* Instructions have been included for each segment. You do not have to follow them exactly, but they are included to help you think through the steps."
   ]
  },
  {
   "cell_type": "code",
   "execution_count": 1,
   "metadata": {
    "scrolled": true
   },
   "outputs": [],
   "source": [
    "# Dependencies and Setup\n",
    "import matplotlib.pyplot as plt\n",
    "import pandas as pd\n",
    "import numpy as np\n",
    "import requests\n",
    "import time\n",
    "from scipy.stats import linregress\n",
    "\n",
    "# Import API key\n",
    "from api_keys import weather_api_key\n",
    "\n",
    "# Incorporated citipy to determine city based on latitude and longitude\n",
    "from citipy import citipy\n",
    "\n",
    "# Output File (CSV)\n",
    "output_data_file = \"output_data/cities.csv\"\n",
    "\n",
    "# Range of latitudes and longitudes\n",
    "lat_range = (-90, 90)\n",
    "lng_range = (-180, 180)"
   ]
  },
  {
   "cell_type": "markdown",
   "metadata": {},
   "source": [
    "## Generate Cities List"
   ]
  },
  {
   "cell_type": "code",
   "execution_count": 2,
   "metadata": {},
   "outputs": [
    {
     "data": {
      "text/plain": [
       "636"
      ]
     },
     "execution_count": 2,
     "metadata": {},
     "output_type": "execute_result"
    }
   ],
   "source": [
    " # List for holding lat_lngs and cities\n",
    "lat_lngs = []\n",
    "cities = []\n",
    "\n",
    "# Create a set of random lat and lng combinations\n",
    "lats = np.random.uniform(low=-90.000, high=90.000, size=1500)\n",
    "lngs = np.random.uniform(low=-180.000, high=180.000, size=1500)\n",
    "lat_lngs = zip(lats, lngs)\n",
    "\n",
    "# Identify nearest city for each lat, lng combination\n",
    "for lat_lng in lat_lngs:\n",
    "    city = citipy.nearest_city(lat_lng[0], lat_lng[1]).city_name\n",
    "    \n",
    "    # If the city is unique, then add it to a our cities list\n",
    "    if city not in cities:\n",
    "        cities.append(city)\n",
    "\n",
    "# Print the city count to confirm sufficient count\n",
    "len(cities)"
   ]
  },
  {
   "cell_type": "markdown",
   "metadata": {},
   "source": [
    "### Perform API Calls\n",
    "* Perform a weather check on each city using a series of successive API calls.\n",
    "* Include a print log of each city as it'sbeing processed (with the city number and city name).\n"
   ]
  },
  {
   "cell_type": "code",
   "execution_count": 3,
   "metadata": {
    "scrolled": true
   },
   "outputs": [
    {
     "name": "stdout",
     "output_type": "stream",
     "text": [
      "The temperature in London is 12.23 C.\n"
     ]
    }
   ],
   "source": [
    "# Save config information.\n",
    "url = \"http://api.openweathermap.org/data/2.5/weather?\"\n",
    "city = \"London\"\n",
    "units = \"metric\"\n",
    "\n",
    "# Build query URL and request your results in Celsius\n",
    "query_url = f\"{url}appid={weather_api_key}&q={city}&units={units}\"\n",
    "\n",
    "# Get weather data\n",
    "weather_response = requests.get(query_url)\n",
    "weather_json = weather_response.json()\n",
    "\n",
    "# Get temperature from JSON response\n",
    "temperature = weather_json[\"main\"][\"temp\"]\n",
    "\n",
    "# Report temperature\n",
    "print(f\"The temperature in London is {temperature} C.\")"
   ]
  },
  {
   "cell_type": "code",
   "execution_count": 4,
   "metadata": {},
   "outputs": [
    {
     "name": "stdout",
     "output_type": "stream",
     "text": [
      "------------------------------\n",
      "Start of Records\n",
      "------------------------------\n",
      "City number 1 of 636 complete. | Added cape town\n",
      "City number 2 of 636 complete. | Added te anau\n",
      "Missing data in city number 3 of 636. | Skipping sentyabrskiy\n",
      "Missing data in city number 4 of 636. | Skipping yomitan\n",
      "City number 5 of 636 complete. | Added ushuaia\n",
      "City number 6 of 636 complete. | Added yellowknife\n",
      "City number 7 of 636 complete. | Added rikitea\n",
      "City number 8 of 636 complete. | Added kimbe\n",
      "City number 9 of 636 complete. | Added constitucion\n",
      "City number 10 of 636 complete. | Added avarua\n",
      "City number 11 of 636 complete. | Added severo-kurilsk\n",
      "City number 12 of 636 complete. | Added cherskiy\n",
      "City number 13 of 636 complete. | Added thompson\n",
      "Missing data in city number 14 of 636. | Skipping barentsburg\n",
      "City number 15 of 636 complete. | Added sulangan\n",
      "City number 16 of 636 complete. | Added bilibino\n",
      "City number 17 of 636 complete. | Added hobart\n",
      "City number 18 of 636 complete. | Added veraval\n",
      "Missing data in city number 19 of 636. | Skipping macaboboni\n",
      "City number 20 of 636 complete. | Added zhoucun\n",
      "City number 21 of 636 complete. | Added qaanaaq\n",
      "City number 22 of 636 complete. | Added jamestown\n",
      "City number 23 of 636 complete. | Added bougouni\n",
      "City number 24 of 636 complete. | Added altay\n",
      "Missing data in city number 25 of 636. | Skipping mys shmidta\n",
      "City number 26 of 636 complete. | Added mar del plata\n",
      "City number 27 of 636 complete. | Added carnarvon\n",
      "City number 28 of 636 complete. | Added buala\n",
      "City number 29 of 636 complete. | Added port said\n",
      "City number 30 of 636 complete. | Added kenai\n",
      "City number 31 of 636 complete. | Added cape coast\n",
      "City number 32 of 636 complete. | Added provideniya\n",
      "City number 33 of 636 complete. | Added shizunai\n",
      "City number 34 of 636 complete. | Added tiksi\n",
      "City number 35 of 636 complete. | Added marrakesh\n",
      "City number 36 of 636 complete. | Added thoen\n",
      "City number 37 of 636 complete. | Added guiyang\n",
      "City number 38 of 636 complete. | Added hit\n",
      "City number 39 of 636 complete. | Added guiglo\n",
      "City number 40 of 636 complete. | Added nhulunbuy\n",
      "City number 41 of 636 complete. | Added butaritari\n",
      "City number 42 of 636 complete. | Added isangel\n",
      "Missing data in city number 43 of 636. | Skipping samusu\n",
      "City number 44 of 636 complete. | Added faanui\n",
      "City number 45 of 636 complete. | Added pisco\n",
      "City number 46 of 636 complete. | Added nizhnyaya tavda\n",
      "City number 47 of 636 complete. | Added busselton\n",
      "City number 48 of 636 complete. | Added manta\n",
      "Missing data in city number 49 of 636. | Skipping hunza\n",
      "City number 50 of 636 complete. | Added new norfolk\n",
      "City number 51 of 636 complete. | Added kodiak\n",
      "City number 52 of 636 complete. | Added port elizabeth\n",
      "City number 53 of 636 complete. | Added colares\n",
      "City number 54 of 636 complete. | Added tuktoyaktuk\n",
      "City number 55 of 636 complete. | Added atuona\n",
      "City number 56 of 636 complete. | Added gobabis\n",
      "City number 57 of 636 complete. | Added dorado\n",
      "City number 58 of 636 complete. | Added lebu\n",
      "City number 59 of 636 complete. | Added mataura\n",
      "City number 60 of 636 complete. | Added saint-philippe\n",
      "City number 61 of 636 complete. | Added nanortalik\n",
      "City number 62 of 636 complete. | Added kungurtug\n",
      "City number 63 of 636 complete. | Added hithadhoo\n",
      "City number 64 of 636 complete. | Added sergeyevka\n",
      "City number 65 of 636 complete. | Added egvekinot\n",
      "City number 66 of 636 complete. | Added kulhudhuffushi\n",
      "City number 67 of 636 complete. | Added cap-aux-meules\n",
      "City number 68 of 636 complete. | Added saskylakh\n",
      "City number 69 of 636 complete. | Added albany\n",
      "City number 70 of 636 complete. | Added viedma\n",
      "City number 71 of 636 complete. | Added yulara\n",
      "Missing data in city number 72 of 636. | Skipping belushya guba\n",
      "Missing data in city number 73 of 636. | Skipping attawapiskat\n",
      "Missing data in city number 74 of 636. | Skipping crab hill\n",
      "City number 75 of 636 complete. | Added sobolevo\n",
      "City number 76 of 636 complete. | Added port hardy\n",
      "City number 77 of 636 complete. | Added srandakan\n",
      "City number 78 of 636 complete. | Added chokurdakh\n",
      "City number 79 of 636 complete. | Added vredendal\n",
      "City number 80 of 636 complete. | Added roald\n",
      "City number 81 of 636 complete. | Added jiayuguan\n",
      "City number 82 of 636 complete. | Added nikolskoye\n",
      "City number 83 of 636 complete. | Added margate\n",
      "City number 84 of 636 complete. | Added narsaq\n",
      "City number 85 of 636 complete. | Added kyzyl-suu\n",
      "Missing data in city number 86 of 636. | Skipping manzil jamil\n",
      "City number 87 of 636 complete. | Added castro\n",
      "City number 88 of 636 complete. | Added geraldton\n",
      "City number 89 of 636 complete. | Added kapaa\n",
      "City number 90 of 636 complete. | Added yichang\n",
      "City number 91 of 636 complete. | Added arraial do cabo\n",
      "City number 92 of 636 complete. | Added punta arenas\n",
      "City number 93 of 636 complete. | Added awbari\n",
      "City number 94 of 636 complete. | Added slave lake\n",
      "City number 95 of 636 complete. | Added namatanai\n",
      "City number 96 of 636 complete. | Added khatanga\n",
      "City number 97 of 636 complete. | Added lakselv\n",
      "City number 98 of 636 complete. | Added talara\n",
      "City number 99 of 636 complete. | Added nyurba\n",
      "City number 100 of 636 complete. | Added ponta do sol\n",
      "City number 101 of 636 complete. | Added san jose\n",
      "City number 102 of 636 complete. | Added tuatapere\n",
      "City number 103 of 636 complete. | Added lavrentiya\n",
      "City number 104 of 636 complete. | Added shush\n",
      "City number 105 of 636 complete. | Added anloga\n",
      "City number 106 of 636 complete. | Added saint-joseph\n",
      "City number 107 of 636 complete. | Added bela\n",
      "City number 108 of 636 complete. | Added dhidhdhoo\n",
      "City number 109 of 636 complete. | Added vaini\n",
      "City number 110 of 636 complete. | Added bethel\n",
      "City number 111 of 636 complete. | Added port alfred\n",
      "City number 112 of 636 complete. | Added jijiga\n",
      "City number 113 of 636 complete. | Added coahuayana\n",
      "City number 114 of 636 complete. | Added tashtyp\n",
      "City number 115 of 636 complete. | Added dikson\n",
      "City number 116 of 636 complete. | Added bose\n",
      "City number 117 of 636 complete. | Added ust-koksa\n",
      "City number 118 of 636 complete. | Added la ronge\n",
      "City number 119 of 636 complete. | Added manokwari\n",
      "City number 120 of 636 complete. | Added hasaki\n",
      "City number 121 of 636 complete. | Added huarmey\n",
      "City number 122 of 636 complete. | Added hofn\n",
      "City number 123 of 636 complete. | Added jamsa\n",
      "City number 124 of 636 complete. | Added pozo colorado\n",
      "City number 125 of 636 complete. | Added sabang\n",
      "City number 126 of 636 complete. | Added hualmay\n",
      "City number 127 of 636 complete. | Added portland\n",
      "City number 128 of 636 complete. | Added charters towers\n",
      "City number 129 of 636 complete. | Added klaksvik\n",
      "City number 130 of 636 complete. | Added chuy\n",
      "City number 131 of 636 complete. | Added puerto ayora\n",
      "City number 132 of 636 complete. | Added buta\n",
      "City number 133 of 636 complete. | Added grindavik\n",
      "City number 134 of 636 complete. | Added sakakah\n",
      "City number 135 of 636 complete. | Added ambilobe\n",
      "City number 136 of 636 complete. | Added bluff\n",
      "City number 137 of 636 complete. | Added boddam\n",
      "City number 138 of 636 complete. | Added lorengau\n",
      "City number 139 of 636 complete. | Added langenau\n",
      "City number 140 of 636 complete. | Added ostrovnoy\n",
      "City number 141 of 636 complete. | Added svetlogorsk\n",
      "City number 142 of 636 complete. | Added potosi\n",
      "City number 143 of 636 complete. | Added mildura\n",
      "City number 144 of 636 complete. | Added airai\n",
      "City number 145 of 636 complete. | Added anadyr\n",
      "City number 146 of 636 complete. | Added kostroma\n",
      "City number 147 of 636 complete. | Added hobyo\n",
      "City number 148 of 636 complete. | Added konstantinovka\n",
      "City number 149 of 636 complete. | Added uddevalla\n",
      "City number 150 of 636 complete. | Added clyde river\n",
      "City number 151 of 636 complete. | Added nuuk\n",
      "City number 152 of 636 complete. | Added xian\n",
      "City number 153 of 636 complete. | Added hammerfest\n",
      "City number 154 of 636 complete. | Added port lincoln\n",
      "City number 155 of 636 complete. | Added kaitangata\n",
      "City number 156 of 636 complete. | Added luderitz\n",
      "City number 157 of 636 complete. | Added devonport\n",
      "City number 158 of 636 complete. | Added vibo valentia\n",
      "City number 159 of 636 complete. | Added langholm\n",
      "City number 160 of 636 complete. | Added karlskoga\n",
      "City number 161 of 636 complete. | Added nuevo progreso\n",
      "City number 162 of 636 complete. | Added tagab\n"
     ]
    },
    {
     "name": "stdout",
     "output_type": "stream",
     "text": [
      "City number 163 of 636 complete. | Added mega\n",
      "City number 164 of 636 complete. | Added nara\n",
      "City number 165 of 636 complete. | Added vestmannaeyjar\n",
      "City number 166 of 636 complete. | Added urucui\n",
      "City number 167 of 636 complete. | Added godean\n",
      "City number 168 of 636 complete. | Added iberia\n",
      "City number 169 of 636 complete. | Added tamworth\n",
      "City number 170 of 636 complete. | Added north augusta\n",
      "City number 171 of 636 complete. | Added iqaluit\n",
      "Missing data in city number 172 of 636. | Skipping tsihombe\n",
      "City number 173 of 636 complete. | Added zeya\n",
      "City number 174 of 636 complete. | Added vilyuysk\n",
      "City number 175 of 636 complete. | Added khasan\n",
      "City number 176 of 636 complete. | Added east london\n",
      "City number 177 of 636 complete. | Added arsenyev\n",
      "City number 178 of 636 complete. | Added yatou\n",
      "City number 179 of 636 complete. | Added chunhuhub\n",
      "City number 180 of 636 complete. | Added maldonado\n",
      "Missing data in city number 181 of 636. | Skipping bargal\n",
      "City number 182 of 636 complete. | Added vanimo\n",
      "Missing data in city number 183 of 636. | Skipping vastervik\n",
      "Missing data in city number 184 of 636. | Skipping taolanaro\n",
      "City number 185 of 636 complete. | Added touros\n",
      "City number 186 of 636 complete. | Added lamar\n",
      "Missing data in city number 187 of 636. | Skipping nizhneyansk\n",
      "Missing data in city number 188 of 636. | Skipping umzimvubu\n",
      "City number 189 of 636 complete. | Added sarai\n",
      "City number 190 of 636 complete. | Added souillac\n",
      "City number 191 of 636 complete. | Added mnichovo hradiste\n",
      "City number 192 of 636 complete. | Added tasiilaq\n",
      "City number 193 of 636 complete. | Added saint george\n",
      "City number 194 of 636 complete. | Added sinnamary\n",
      "City number 195 of 636 complete. | Added santa rosa\n",
      "City number 196 of 636 complete. | Added agadir\n",
      "City number 197 of 636 complete. | Added la paz\n",
      "City number 198 of 636 complete. | Added jumla\n",
      "City number 199 of 636 complete. | Added lushoto\n",
      "City number 200 of 636 complete. | Added lagoa\n",
      "City number 201 of 636 complete. | Added normal\n",
      "City number 202 of 636 complete. | Added impfondo\n",
      "City number 203 of 636 complete. | Added bitung\n",
      "City number 204 of 636 complete. | Added usoke\n",
      "City number 205 of 636 complete. | Added kendal\n",
      "City number 206 of 636 complete. | Added san cristobal\n",
      "City number 207 of 636 complete. | Added bambous virieux\n",
      "City number 208 of 636 complete. | Added kysyl-syr\n",
      "City number 209 of 636 complete. | Added akureyri\n",
      "City number 210 of 636 complete. | Added quepos\n",
      "City number 211 of 636 complete. | Added brownsville\n",
      "City number 212 of 636 complete. | Added upernavik\n",
      "Missing data in city number 213 of 636. | Skipping vaitupu\n",
      "City number 214 of 636 complete. | Added esperance\n",
      "City number 215 of 636 complete. | Added beitbridge\n",
      "City number 216 of 636 complete. | Added hilo\n",
      "City number 217 of 636 complete. | Added katobu\n",
      "City number 218 of 636 complete. | Added lompoc\n",
      "City number 219 of 636 complete. | Added yar-sale\n",
      "City number 220 of 636 complete. | Added hermanus\n",
      "City number 221 of 636 complete. | Added flinders\n",
      "City number 222 of 636 complete. | Added tabou\n",
      "City number 223 of 636 complete. | Added katsuura\n",
      "City number 224 of 636 complete. | Added fortuna\n",
      "City number 225 of 636 complete. | Added saint-louis\n",
      "Missing data in city number 226 of 636. | Skipping illoqqortoormiut\n",
      "City number 227 of 636 complete. | Added srednekolymsk\n",
      "City number 228 of 636 complete. | Added zhanaozen\n",
      "City number 229 of 636 complete. | Added neuquen\n",
      "City number 230 of 636 complete. | Added berlevag\n",
      "City number 231 of 636 complete. | Added la mesa\n",
      "City number 232 of 636 complete. | Added dingle\n",
      "City number 233 of 636 complete. | Added maxixe\n",
      "City number 234 of 636 complete. | Added sorland\n",
      "City number 235 of 636 complete. | Added mount isa\n",
      "City number 236 of 636 complete. | Added sitka\n",
      "City number 237 of 636 complete. | Added mwinilunga\n",
      "City number 238 of 636 complete. | Added chincha alta\n",
      "City number 239 of 636 complete. | Added praia da vitoria\n",
      "City number 240 of 636 complete. | Added salalah\n",
      "City number 241 of 636 complete. | Added jacmel\n",
      "City number 242 of 636 complete. | Added marystown\n",
      "City number 243 of 636 complete. | Added jinchang\n",
      "City number 244 of 636 complete. | Added port macquarie\n",
      "City number 245 of 636 complete. | Added port-gentil\n",
      "City number 246 of 636 complete. | Added bathsheba\n",
      "City number 247 of 636 complete. | Added nemuro\n",
      "City number 248 of 636 complete. | Added fomboni\n",
      "City number 249 of 636 complete. | Added akyab\n",
      "City number 250 of 636 complete. | Added maryville\n",
      "Missing data in city number 251 of 636. | Skipping tabiauea\n",
      "City number 252 of 636 complete. | Added campbell river\n",
      "City number 253 of 636 complete. | Added college\n",
      "City number 254 of 636 complete. | Added grafton\n",
      "City number 255 of 636 complete. | Added alta floresta\n",
      "City number 256 of 636 complete. | Added kavaratti\n",
      "City number 257 of 636 complete. | Added mikkeli\n",
      "City number 258 of 636 complete. | Added shingu\n",
      "City number 259 of 636 complete. | Added botou\n",
      "City number 260 of 636 complete. | Added cam ranh\n",
      "City number 261 of 636 complete. | Added talnakh\n",
      "City number 262 of 636 complete. | Added palmer\n",
      "Missing data in city number 263 of 636. | Skipping grand river south east\n",
      "City number 264 of 636 complete. | Added jiangyou\n",
      "City number 265 of 636 complete. | Added chinsali\n",
      "City number 266 of 636 complete. | Added cidreira\n",
      "City number 267 of 636 complete. | Added san carlos de bariloche\n",
      "City number 268 of 636 complete. | Added georgetown\n",
      "City number 269 of 636 complete. | Added bredasdorp\n",
      "City number 270 of 636 complete. | Added ahipara\n",
      "City number 271 of 636 complete. | Added periyapatti\n",
      "City number 272 of 636 complete. | Added los llanos de aridane\n",
      "City number 273 of 636 complete. | Added husavik\n",
      "City number 274 of 636 complete. | Added prince george\n",
      "City number 275 of 636 complete. | Added mahon\n",
      "City number 276 of 636 complete. | Added okha\n",
      "City number 277 of 636 complete. | Added asfi\n",
      "City number 278 of 636 complete. | Added poso\n",
      "Missing data in city number 279 of 636. | Skipping amderma\n",
      "City number 280 of 636 complete. | Added san patricio\n",
      "City number 281 of 636 complete. | Added leh\n",
      "City number 282 of 636 complete. | Added lishan\n",
      "City number 283 of 636 complete. | Added south venice\n",
      "City number 284 of 636 complete. | Added acari\n",
      "City number 285 of 636 complete. | Added waingapu\n",
      "City number 286 of 636 complete. | Added aberdare\n",
      "City number 287 of 636 complete. | Added boende\n",
      "City number 288 of 636 complete. | Added acapulco\n",
      "City number 289 of 636 complete. | Added guane\n",
      "City number 290 of 636 complete. | Added santa vitoria do palmar\n",
      "Missing data in city number 291 of 636. | Skipping ijaki\n",
      "City number 292 of 636 complete. | Added barrow\n",
      "City number 293 of 636 complete. | Added mahebourg\n",
      "City number 294 of 636 complete. | Added harper\n",
      "City number 295 of 636 complete. | Added petropavlovsk-kamchatskiy\n",
      "Missing data in city number 296 of 636. | Skipping sinjah\n",
      "City number 297 of 636 complete. | Added erdenet\n",
      "City number 298 of 636 complete. | Added pevek\n",
      "City number 299 of 636 complete. | Added daultala\n",
      "City number 300 of 636 complete. | Added chimbote\n",
      "City number 301 of 636 complete. | Added mugumu\n",
      "City number 302 of 636 complete. | Added homer\n",
      "City number 303 of 636 complete. | Added mackay\n",
      "City number 304 of 636 complete. | Added porbandar\n",
      "Missing data in city number 305 of 636. | Skipping sahrak\n",
      "City number 306 of 636 complete. | Added atar\n",
      "City number 307 of 636 complete. | Added yokadouma\n",
      "City number 308 of 636 complete. | Added norwood\n",
      "Missing data in city number 309 of 636. | Skipping tarudant\n",
      "City number 310 of 636 complete. | Added tigre\n",
      "Missing data in city number 311 of 636. | Skipping toulepleu\n",
      "City number 312 of 636 complete. | Added staryy nadym\n",
      "City number 313 of 636 complete. | Added vieques\n",
      "City number 314 of 636 complete. | Added leningradskiy\n",
      "City number 315 of 636 complete. | Added kijang\n",
      "City number 316 of 636 complete. | Added fairbanks\n",
      "City number 317 of 636 complete. | Added zambezi\n",
      "City number 318 of 636 complete. | Added okhotsk\n",
      "City number 319 of 636 complete. | Added longyearbyen\n",
      "City number 320 of 636 complete. | Added coachella\n",
      "City number 321 of 636 complete. | Added robinson\n",
      "City number 322 of 636 complete. | Added abu samrah\n"
     ]
    },
    {
     "name": "stdout",
     "output_type": "stream",
     "text": [
      "City number 323 of 636 complete. | Added jiaxing\n",
      "City number 324 of 636 complete. | Added tual\n",
      "City number 325 of 636 complete. | Added kirakira\n",
      "City number 326 of 636 complete. | Added zabaykalsk\n",
      "Missing data in city number 327 of 636. | Skipping phan rang\n",
      "City number 328 of 636 complete. | Added mirzapur\n",
      "City number 329 of 636 complete. | Added zeulenroda\n",
      "City number 330 of 636 complete. | Added hami\n",
      "City number 331 of 636 complete. | Added divnomorskoye\n",
      "City number 332 of 636 complete. | Added cabra\n",
      "City number 333 of 636 complete. | Added manzhouli\n",
      "City number 334 of 636 complete. | Added dahra\n",
      "City number 335 of 636 complete. | Added nantucket\n",
      "City number 336 of 636 complete. | Added soure\n",
      "City number 337 of 636 complete. | Added mercedes\n",
      "City number 338 of 636 complete. | Added tagusao\n",
      "City number 339 of 636 complete. | Added nanjing\n",
      "City number 340 of 636 complete. | Added mudgee\n",
      "City number 341 of 636 complete. | Added benghazi\n",
      "City number 342 of 636 complete. | Added fairlie\n",
      "City number 343 of 636 complete. | Added carlyle\n",
      "City number 344 of 636 complete. | Added swan hill\n",
      "City number 345 of 636 complete. | Added norman wells\n",
      "City number 346 of 636 complete. | Added san quintin\n",
      "City number 347 of 636 complete. | Added price\n",
      "City number 348 of 636 complete. | Added ojinaga\n",
      "Missing data in city number 349 of 636. | Skipping yingzhong\n",
      "City number 350 of 636 complete. | Added victoria\n",
      "City number 351 of 636 complete. | Added bantry\n",
      "City number 352 of 636 complete. | Added chhabra\n",
      "City number 353 of 636 complete. | Added yarovoye\n",
      "City number 354 of 636 complete. | Added ribeira grande\n",
      "City number 355 of 636 complete. | Added sao filipe\n",
      "City number 356 of 636 complete. | Added howard springs\n",
      "City number 357 of 636 complete. | Added umm kaddadah\n",
      "City number 358 of 636 complete. | Added ippy\n",
      "City number 359 of 636 complete. | Added belaya gora\n",
      "City number 360 of 636 complete. | Added nishihara\n",
      "City number 361 of 636 complete. | Added caucaia\n",
      "City number 362 of 636 complete. | Added araouane\n",
      "City number 363 of 636 complete. | Added elliot\n",
      "City number 364 of 636 complete. | Added arlit\n",
      "City number 365 of 636 complete. | Added urengoy\n",
      "City number 366 of 636 complete. | Added chilca\n",
      "City number 367 of 636 complete. | Added santa lucia\n",
      "City number 368 of 636 complete. | Added dublin\n",
      "City number 369 of 636 complete. | Added lata\n",
      "City number 370 of 636 complete. | Added shache\n",
      "City number 371 of 636 complete. | Added alice springs\n",
      "City number 372 of 636 complete. | Added kidal\n",
      "City number 373 of 636 complete. | Added jamame\n",
      "City number 374 of 636 complete. | Added uruzgan\n",
      "City number 375 of 636 complete. | Added tonekabon\n",
      "City number 376 of 636 complete. | Added esna\n",
      "Missing data in city number 377 of 636. | Skipping saleaula\n",
      "City number 378 of 636 complete. | Added novikovo\n",
      "City number 379 of 636 complete. | Added kantabanji\n",
      "City number 380 of 636 complete. | Added kishtwar\n",
      "City number 381 of 636 complete. | Added inirida\n",
      "City number 382 of 636 complete. | Added ludvika\n",
      "City number 383 of 636 complete. | Added kaduqli\n",
      "City number 384 of 636 complete. | Added havelock\n",
      "City number 385 of 636 complete. | Added zhigansk\n",
      "City number 386 of 636 complete. | Added kota bahru\n",
      "City number 387 of 636 complete. | Added codrington\n",
      "City number 388 of 636 complete. | Added estelle\n",
      "City number 389 of 636 complete. | Added cajati\n",
      "City number 390 of 636 complete. | Added hashimoto\n",
      "City number 391 of 636 complete. | Added bagdarin\n",
      "City number 392 of 636 complete. | Added necochea\n",
      "City number 393 of 636 complete. | Added brownwood\n",
      "City number 394 of 636 complete. | Added kahului\n",
      "City number 395 of 636 complete. | Added saldanha\n",
      "City number 396 of 636 complete. | Added monrovia\n",
      "City number 397 of 636 complete. | Added ixtapa\n",
      "City number 398 of 636 complete. | Added edd\n",
      "City number 399 of 636 complete. | Added tuskegee\n",
      "City number 400 of 636 complete. | Added bima\n",
      "City number 401 of 636 complete. | Added lucapa\n",
      "City number 402 of 636 complete. | Added kushiro\n",
      "City number 403 of 636 complete. | Added olafsvik\n",
      "City number 404 of 636 complete. | Added ailigandi\n",
      "City number 405 of 636 complete. | Added coquimbo\n",
      "City number 406 of 636 complete. | Added bolobo\n",
      "City number 407 of 636 complete. | Added torbay\n",
      "City number 408 of 636 complete. | Added quang ngai\n",
      "City number 409 of 636 complete. | Added saint-francois\n",
      "City number 410 of 636 complete. | Added nyagan\n",
      "City number 411 of 636 complete. | Added den helder\n",
      "City number 412 of 636 complete. | Added kalabo\n",
      "City number 413 of 636 complete. | Added evensk\n",
      "City number 414 of 636 complete. | Added sangar\n",
      "City number 415 of 636 complete. | Added flin flon\n",
      "City number 416 of 636 complete. | Added antofagasta\n",
      "City number 417 of 636 complete. | Added prince rupert\n",
      "City number 418 of 636 complete. | Added kichera\n",
      "City number 419 of 636 complete. | Added sept-iles\n",
      "City number 420 of 636 complete. | Added dolores\n",
      "City number 421 of 636 complete. | Added bronnoysund\n",
      "City number 422 of 636 complete. | Added volovo\n",
      "Missing data in city number 423 of 636. | Skipping dibaya\n",
      "Missing data in city number 424 of 636. | Skipping karakendzha\n",
      "City number 425 of 636 complete. | Added wangou\n",
      "City number 426 of 636 complete. | Added sesimbra\n",
      "City number 427 of 636 complete. | Added tynda\n",
      "City number 428 of 636 complete. | Added bayonne\n",
      "City number 429 of 636 complete. | Added kamina\n",
      "City number 430 of 636 complete. | Added sharanga\n",
      "Missing data in city number 431 of 636. | Skipping mahadday weyne\n",
      "City number 432 of 636 complete. | Added san carlos del zulia\n",
      "City number 433 of 636 complete. | Added carballo\n",
      "City number 434 of 636 complete. | Added comodoro rivadavia\n",
      "City number 435 of 636 complete. | Added rio gallegos\n",
      "City number 436 of 636 complete. | Added camapua\n",
      "City number 437 of 636 complete. | Added hamilton\n",
      "City number 438 of 636 complete. | Added monticello\n",
      "City number 439 of 636 complete. | Added stornoway\n",
      "City number 440 of 636 complete. | Added gigmoto\n",
      "City number 441 of 636 complete. | Added mollendo\n",
      "City number 442 of 636 complete. | Added belmonte\n",
      "City number 443 of 636 complete. | Added luganville\n",
      "City number 444 of 636 complete. | Added port hedland\n",
      "City number 445 of 636 complete. | Added suoyarvi\n",
      "City number 446 of 636 complete. | Added namibe\n",
      "City number 447 of 636 complete. | Added mackenzie\n",
      "City number 448 of 636 complete. | Added deputatskiy\n",
      "City number 449 of 636 complete. | Added bodden town\n",
      "City number 450 of 636 complete. | Added gravdal\n",
      "City number 451 of 636 complete. | Added itarema\n",
      "City number 452 of 636 complete. | Added champerico\n",
      "City number 453 of 636 complete. | Added tongren\n",
      "City number 454 of 636 complete. | Added urman\n",
      "City number 455 of 636 complete. | Added chavakkad\n",
      "City number 456 of 636 complete. | Added colac\n",
      "City number 457 of 636 complete. | Added kandava\n",
      "City number 458 of 636 complete. | Added inhambane\n",
      "City number 459 of 636 complete. | Added benguela\n",
      "City number 460 of 636 complete. | Added churapcha\n",
      "Missing data in city number 461 of 636. | Skipping mudyuga\n",
      "City number 462 of 636 complete. | Added kavieng\n",
      "City number 463 of 636 complete. | Added saint-augustin\n",
      "Missing data in city number 464 of 636. | Skipping jiddah\n",
      "City number 465 of 636 complete. | Added beidao\n",
      "City number 466 of 636 complete. | Added chernolesskoye\n",
      "City number 467 of 636 complete. | Added boa vista\n",
      "City number 468 of 636 complete. | Added kristiinankaupunki\n",
      "City number 469 of 636 complete. | Added abu dhabi\n",
      "City number 470 of 636 complete. | Added lithakia\n",
      "City number 471 of 636 complete. | Added kyshtovka\n",
      "City number 472 of 636 complete. | Added yablonovo\n",
      "Missing data in city number 473 of 636. | Skipping zhanatas\n",
      "City number 474 of 636 complete. | Added wakkanai\n",
      "City number 475 of 636 complete. | Added toamasina\n",
      "City number 476 of 636 complete. | Added payakumbuh\n",
      "City number 477 of 636 complete. | Added coihaique\n",
      "City number 478 of 636 complete. | Added el jicaro\n",
      "City number 479 of 636 complete. | Added tubli\n",
      "Missing data in city number 480 of 636. | Skipping qurbah\n",
      "City number 481 of 636 complete. | Added kumluca\n",
      "City number 482 of 636 complete. | Added mitsamiouli\n",
      "City number 483 of 636 complete. | Added visby\n",
      "City number 484 of 636 complete. | Added haines junction\n"
     ]
    },
    {
     "name": "stdout",
     "output_type": "stream",
     "text": [
      "City number 485 of 636 complete. | Added marsh harbour\n",
      "City number 486 of 636 complete. | Added sesheke\n",
      "Missing data in city number 487 of 636. | Skipping ngukurr\n",
      "City number 488 of 636 complete. | Added schwandorf\n",
      "City number 489 of 636 complete. | Added sehithwa\n",
      "City number 490 of 636 complete. | Added mandurah\n",
      "City number 491 of 636 complete. | Added bengkulu\n",
      "City number 492 of 636 complete. | Added xaltianguis\n",
      "City number 493 of 636 complete. | Added nador\n",
      "City number 494 of 636 complete. | Added great yarmouth\n",
      "City number 495 of 636 complete. | Added diego de almagro\n",
      "City number 496 of 636 complete. | Added belyy yar\n",
      "City number 497 of 636 complete. | Added ust-maya\n",
      "City number 498 of 636 complete. | Added lensk\n",
      "Missing data in city number 499 of 636. | Skipping meyungs\n",
      "City number 500 of 636 complete. | Added murgab\n",
      "City number 501 of 636 complete. | Added majalgaon\n",
      "City number 502 of 636 complete. | Added santa maria del oro\n",
      "City number 503 of 636 complete. | Added amahai\n",
      "City number 504 of 636 complete. | Added omboue\n",
      "City number 505 of 636 complete. | Added ilulissat\n",
      "City number 506 of 636 complete. | Added manadhoo\n",
      "City number 507 of 636 complete. | Added pochutla\n",
      "Missing data in city number 508 of 636. | Skipping zmievka\n",
      "City number 509 of 636 complete. | Added kruisfontein\n",
      "City number 510 of 636 complete. | Added pamfila\n",
      "City number 511 of 636 complete. | Added westport\n",
      "City number 512 of 636 complete. | Added pestovo\n",
      "City number 513 of 636 complete. | Added tautira\n",
      "City number 514 of 636 complete. | Added boo\n",
      "City number 515 of 636 complete. | Added yuza\n",
      "City number 516 of 636 complete. | Added gurupa\n",
      "City number 517 of 636 complete. | Added porlamar\n",
      "City number 518 of 636 complete. | Added sambava\n",
      "City number 519 of 636 complete. | Added denpasar\n",
      "City number 520 of 636 complete. | Added santa cruz\n",
      "City number 521 of 636 complete. | Added ulladulla\n",
      "City number 522 of 636 complete. | Added birobidzhan\n",
      "City number 523 of 636 complete. | Added grand gaube\n",
      "City number 524 of 636 complete. | Added asyut\n",
      "City number 525 of 636 complete. | Added ovruch\n",
      "Missing data in city number 526 of 636. | Skipping warqla\n",
      "City number 527 of 636 complete. | Added tura\n",
      "City number 528 of 636 complete. | Added stanita\n",
      "City number 529 of 636 complete. | Added fuerte olimpo\n",
      "City number 530 of 636 complete. | Added willowmore\n",
      "City number 531 of 636 complete. | Added havre-saint-pierre\n",
      "City number 532 of 636 complete. | Added jacareacanga\n",
      "City number 533 of 636 complete. | Added lebrija\n",
      "City number 534 of 636 complete. | Added ekhabi\n",
      "City number 535 of 636 complete. | Added krasnyy yar\n",
      "City number 536 of 636 complete. | Added ketchikan\n",
      "Missing data in city number 537 of 636. | Skipping mrirt\n",
      "City number 538 of 636 complete. | Added aykhal\n",
      "City number 539 of 636 complete. | Added cairns\n",
      "City number 540 of 636 complete. | Added puteyets\n",
      "City number 541 of 636 complete. | Added honiara\n",
      "City number 542 of 636 complete. | Added roma\n",
      "City number 543 of 636 complete. | Added natal\n",
      "City number 544 of 636 complete. | Added newport\n",
      "City number 545 of 636 complete. | Added puerto escondido\n",
      "City number 546 of 636 complete. | Added esil\n",
      "City number 547 of 636 complete. | Added costa rica\n",
      "City number 548 of 636 complete. | Added tessalit\n",
      "City number 549 of 636 complete. | Added barranca\n",
      "City number 550 of 636 complete. | Added eureka\n",
      "City number 551 of 636 complete. | Added kiunga\n",
      "City number 552 of 636 complete. | Added khorramabad\n",
      "City number 553 of 636 complete. | Added pathein\n",
      "Missing data in city number 554 of 636. | Skipping el faiyum\n",
      "City number 555 of 636 complete. | Added suhut\n",
      "City number 556 of 636 complete. | Added beloha\n",
      "City number 557 of 636 complete. | Added tyup\n",
      "City number 558 of 636 complete. | Added samarai\n",
      "City number 559 of 636 complete. | Added billings\n",
      "City number 560 of 636 complete. | Added guerrero negro\n",
      "City number 561 of 636 complete. | Added sovetskiy\n",
      "City number 562 of 636 complete. | Added komsomolskiy\n",
      "City number 563 of 636 complete. | Added wladyslawowo\n",
      "City number 564 of 636 complete. | Added mogadishu\n",
      "City number 565 of 636 complete. | Added igarka\n",
      "City number 566 of 636 complete. | Added port blair\n",
      "City number 567 of 636 complete. | Added itambacuri\n",
      "City number 568 of 636 complete. | Added seddon\n",
      "City number 569 of 636 complete. | Added shumskiy\n",
      "Missing data in city number 570 of 636. | Skipping longlac\n",
      "City number 571 of 636 complete. | Added fare\n",
      "City number 572 of 636 complete. | Added dutse\n",
      "City number 573 of 636 complete. | Added pine bluff\n",
      "City number 574 of 636 complete. | Added stokmarknes\n",
      "Missing data in city number 575 of 636. | Skipping burica\n",
      "City number 576 of 636 complete. | Added mineral wells\n",
      "City number 577 of 636 complete. | Added ribeira brava\n",
      "City number 578 of 636 complete. | Added kaputa\n",
      "City number 579 of 636 complete. | Added noumea\n",
      "City number 580 of 636 complete. | Added bilma\n",
      "City number 581 of 636 complete. | Added rio grande\n",
      "City number 582 of 636 complete. | Added chemal\n",
      "City number 583 of 636 complete. | Added jaisalmer\n",
      "City number 584 of 636 complete. | Added ginda\n",
      "City number 585 of 636 complete. | Added corrente\n",
      "City number 586 of 636 complete. | Added plettenberg bay\n",
      "City number 587 of 636 complete. | Added lillooet\n",
      "City number 588 of 636 complete. | Added savinka\n",
      "City number 589 of 636 complete. | Added chengdu\n",
      "City number 590 of 636 complete. | Added morondava\n",
      "City number 591 of 636 complete. | Added ciudad bolivar\n",
      "Missing data in city number 592 of 636. | Skipping wahran\n",
      "City number 593 of 636 complete. | Added anzio\n",
      "City number 594 of 636 complete. | Added korla\n",
      "City number 595 of 636 complete. | Added waipawa\n",
      "City number 596 of 636 complete. | Added baikunthpur\n",
      "City number 597 of 636 complete. | Added znamenskoye\n",
      "Missing data in city number 598 of 636. | Skipping kamenskoye\n",
      "City number 599 of 636 complete. | Added ponta delgada\n",
      "City number 600 of 636 complete. | Added omis\n",
      "Missing data in city number 601 of 636. | Skipping viligili\n",
      "City number 602 of 636 complete. | Added sahuaripa\n",
      "City number 603 of 636 complete. | Added nuristan\n",
      "City number 604 of 636 complete. | Added baruun-urt\n",
      "City number 605 of 636 complete. | Added birjand\n",
      "City number 606 of 636 complete. | Added hovd\n",
      "City number 607 of 636 complete. | Added kuytun\n",
      "City number 608 of 636 complete. | Added makakilo city\n",
      "City number 609 of 636 complete. | Added mayor pablo lagerenza\n",
      "City number 610 of 636 complete. | Added aklavik\n",
      "City number 611 of 636 complete. | Added hamada\n",
      "City number 612 of 636 complete. | Added mansa\n",
      "City number 613 of 636 complete. | Added xiaoweizhai\n",
      "City number 614 of 636 complete. | Added nome\n",
      "City number 615 of 636 complete. | Added daru\n",
      "Missing data in city number 616 of 636. | Skipping hihifo\n",
      "City number 617 of 636 complete. | Added trairi\n",
      "City number 618 of 636 complete. | Added bubaque\n",
      "City number 619 of 636 complete. | Added magelang\n",
      "City number 620 of 636 complete. | Added wencheng\n",
      "City number 621 of 636 complete. | Added kishi\n",
      "City number 622 of 636 complete. | Added puerto baquerizo moreno\n",
      "City number 623 of 636 complete. | Added crateus\n",
      "City number 624 of 636 complete. | Added vardo\n",
      "City number 625 of 636 complete. | Added umm lajj\n",
      "City number 626 of 636 complete. | Added mutis\n",
      "City number 627 of 636 complete. | Added sistranda\n",
      "City number 628 of 636 complete. | Added moa\n",
      "City number 629 of 636 complete. | Added zacualpan\n",
      "Missing data in city number 630 of 636. | Skipping marcona\n",
      "City number 631 of 636 complete. | Added cayenne\n",
      "City number 632 of 636 complete. | Added sur\n",
      "City number 633 of 636 complete. | Added burgeo\n",
      "City number 634 of 636 complete. | Added bowen\n",
      "Missing data in city number 635 of 636. | Skipping tawkar\n",
      "City number 636 of 636 complete. | Added tokat\n",
      "------------------------------\n",
      "End of Records\n",
      "------------------------------\n"
     ]
    }
   ],
   "source": [
    "# Save config information.\n",
    "url = \"http://api.openweathermap.org/data/2.5/weather?\"\n",
    "city = []\n",
    "units = \"imperial\"\n",
    "\n",
    "#Initiate counter for city number below\n",
    "number = 1\n",
    "\n",
    "#Lists for holding required items\n",
    "city_name = []\n",
    "cloudiness = []\n",
    "countries = []\n",
    "date = []\n",
    "humidity = []\n",
    "lat = []\n",
    "lng = []\n",
    "max_temp = []\n",
    "wind_speed = []\n",
    "\n",
    "#Loop through each city, extract required items, and print result\n",
    "print('------------------------------')\n",
    "print('Start of Records')\n",
    "print('------------------------------')\n",
    "\n",
    "for city in cities:\n",
    "    # Build query URL and request your results in Celsius\n",
    "    query_url = f\"{url}appid={weather_api_key}&q={city}&units={units}\"\n",
    "    # Get weather data\n",
    "    weather_response = requests.get(query_url)\n",
    "    weather_json = weather_response.json()\n",
    "    try:\n",
    "        \n",
    "        city_name.append(weather_json[\"name\"])\n",
    "        cloudiness.append(weather_json[\"clouds\"][\"all\"])\n",
    "        countries.append(weather_json['sys']['country'])\n",
    "        date.append(weather_json[\"dt\"])\n",
    "        humidity.append(weather_json[\"main\"][\"humidity\"])\n",
    "        max_temp.append(weather_json[\"main\"][\"temp_max\"])\n",
    "        lat.append(weather_json[\"coord\"][\"lat\"])\n",
    "        lng.append(weather_json[\"coord\"][\"lon\"])\n",
    "        wind_speed.append(weather_json[\"wind\"][\"speed\"])\n",
    "        city_record = weather_json[\"name\"]\n",
    "        print(f'City number {number} of {len(cities)} complete. | Added {city}')\n",
    "        number = number + 1\n",
    "    \n",
    "    except KeyError:\n",
    "        print(f'Missing data in city number {number} of {len(cities)}. | Skipping {city}')\n",
    "        number = number + 1\n",
    "        \n",
    "print('------------------------------')\n",
    "print('End of Records')\n",
    "print('------------------------------')"
   ]
  },
  {
   "cell_type": "markdown",
   "metadata": {},
   "source": [
    "### Convert Raw Data to DataFrame\n",
    "* Export the city data into a .csv.\n",
    "* Display the DataFrame"
   ]
  },
  {
   "cell_type": "code",
   "execution_count": 5,
   "metadata": {},
   "outputs": [],
   "source": [
    "#Create a dataframe with required items\n",
    "city_df = pd.DataFrame({\"City\": city_name,\n",
    "                        \"Cloudiness\":cloudiness, \n",
    "                        \"Date\":date, \n",
    "                        \"Humidity\": humidity,\n",
    "                        \"Lat\":lat, \n",
    "                        \"Lng\":lng, \n",
    "                        \"Max Temp\": max_temp,\n",
    "                        \"Wind Speed\":wind_speed,\n",
    "                        \"Country\":countries})\n",
    "\n",
    "#Save dataframe as csv\n",
    "pd.DataFrame.to_csv(city_df, 'cities_data.csv')\n"
   ]
  },
  {
   "cell_type": "code",
   "execution_count": 6,
   "metadata": {},
   "outputs": [
    {
     "data": {
      "text/html": [
       "<div>\n",
       "<style scoped>\n",
       "    .dataframe tbody tr th:only-of-type {\n",
       "        vertical-align: middle;\n",
       "    }\n",
       "\n",
       "    .dataframe tbody tr th {\n",
       "        vertical-align: top;\n",
       "    }\n",
       "\n",
       "    .dataframe thead th {\n",
       "        text-align: right;\n",
       "    }\n",
       "</style>\n",
       "<table border=\"1\" class=\"dataframe\">\n",
       "  <thead>\n",
       "    <tr style=\"text-align: right;\">\n",
       "      <th></th>\n",
       "      <th>City</th>\n",
       "      <th>Cloudiness</th>\n",
       "      <th>Date</th>\n",
       "      <th>Humidity</th>\n",
       "      <th>Lat</th>\n",
       "      <th>Lng</th>\n",
       "      <th>Max Temp</th>\n",
       "      <th>Wind Speed</th>\n",
       "      <th>Country</th>\n",
       "    </tr>\n",
       "  </thead>\n",
       "  <tbody>\n",
       "    <tr>\n",
       "      <th>0</th>\n",
       "      <td>Cape Town</td>\n",
       "      <td>75</td>\n",
       "      <td>1598756403</td>\n",
       "      <td>93</td>\n",
       "      <td>-33.93</td>\n",
       "      <td>18.42</td>\n",
       "      <td>39.20</td>\n",
       "      <td>2.24</td>\n",
       "      <td>ZA</td>\n",
       "    </tr>\n",
       "    <tr>\n",
       "      <th>1</th>\n",
       "      <td>Te Anau</td>\n",
       "      <td>100</td>\n",
       "      <td>1598756455</td>\n",
       "      <td>71</td>\n",
       "      <td>-45.42</td>\n",
       "      <td>167.72</td>\n",
       "      <td>51.89</td>\n",
       "      <td>7.18</td>\n",
       "      <td>NZ</td>\n",
       "    </tr>\n",
       "    <tr>\n",
       "      <th>2</th>\n",
       "      <td>Ushuaia</td>\n",
       "      <td>90</td>\n",
       "      <td>1598756461</td>\n",
       "      <td>91</td>\n",
       "      <td>-54.80</td>\n",
       "      <td>-68.30</td>\n",
       "      <td>32.00</td>\n",
       "      <td>20.80</td>\n",
       "      <td>AR</td>\n",
       "    </tr>\n",
       "    <tr>\n",
       "      <th>3</th>\n",
       "      <td>Yellowknife</td>\n",
       "      <td>75</td>\n",
       "      <td>1598756443</td>\n",
       "      <td>81</td>\n",
       "      <td>62.46</td>\n",
       "      <td>-114.35</td>\n",
       "      <td>46.40</td>\n",
       "      <td>18.34</td>\n",
       "      <td>CA</td>\n",
       "    </tr>\n",
       "    <tr>\n",
       "      <th>4</th>\n",
       "      <td>Rikitea</td>\n",
       "      <td>10</td>\n",
       "      <td>1598756680</td>\n",
       "      <td>76</td>\n",
       "      <td>-23.12</td>\n",
       "      <td>-134.97</td>\n",
       "      <td>70.12</td>\n",
       "      <td>7.45</td>\n",
       "      <td>PF</td>\n",
       "    </tr>\n",
       "  </tbody>\n",
       "</table>\n",
       "</div>"
      ],
      "text/plain": [
       "          City  Cloudiness        Date  Humidity    Lat     Lng  Max Temp  \\\n",
       "0    Cape Town          75  1598756403        93 -33.93   18.42     39.20   \n",
       "1      Te Anau         100  1598756455        71 -45.42  167.72     51.89   \n",
       "2      Ushuaia          90  1598756461        91 -54.80  -68.30     32.00   \n",
       "3  Yellowknife          75  1598756443        81  62.46 -114.35     46.40   \n",
       "4      Rikitea          10  1598756680        76 -23.12 -134.97     70.12   \n",
       "\n",
       "   Wind Speed Country  \n",
       "0        2.24      ZA  \n",
       "1        7.18      NZ  \n",
       "2       20.80      AR  \n",
       "3       18.34      CA  \n",
       "4        7.45      PF  "
      ]
     },
     "execution_count": 6,
     "metadata": {},
     "output_type": "execute_result"
    }
   ],
   "source": [
    "city_df.head()"
   ]
  },
  {
   "cell_type": "markdown",
   "metadata": {},
   "source": [
    "## Inspect the data and remove the cities where the humidity > 100%.\n",
    "----\n",
    "Skip this step if there are no cities that have humidity > 100%. "
   ]
  },
  {
   "cell_type": "code",
   "execution_count": 7,
   "metadata": {},
   "outputs": [
    {
     "data": {
      "text/html": [
       "<div>\n",
       "<style scoped>\n",
       "    .dataframe tbody tr th:only-of-type {\n",
       "        vertical-align: middle;\n",
       "    }\n",
       "\n",
       "    .dataframe tbody tr th {\n",
       "        vertical-align: top;\n",
       "    }\n",
       "\n",
       "    .dataframe thead th {\n",
       "        text-align: right;\n",
       "    }\n",
       "</style>\n",
       "<table border=\"1\" class=\"dataframe\">\n",
       "  <thead>\n",
       "    <tr style=\"text-align: right;\">\n",
       "      <th></th>\n",
       "      <th>City</th>\n",
       "      <th>Cloudiness</th>\n",
       "      <th>Date</th>\n",
       "      <th>Humidity</th>\n",
       "      <th>Lat</th>\n",
       "      <th>Lng</th>\n",
       "      <th>Max Temp</th>\n",
       "      <th>Wind Speed</th>\n",
       "      <th>Country</th>\n",
       "    </tr>\n",
       "  </thead>\n",
       "  <tbody>\n",
       "  </tbody>\n",
       "</table>\n",
       "</div>"
      ],
      "text/plain": [
       "Empty DataFrame\n",
       "Columns: [City, Cloudiness, Date, Humidity, Lat, Lng, Max Temp, Wind Speed, Country]\n",
       "Index: []"
      ]
     },
     "execution_count": 7,
     "metadata": {},
     "output_type": "execute_result"
    }
   ],
   "source": [
    "humidity_df = city_df[city_df['Humidity'] > 100]\n",
    "humidity_df"
   ]
  },
  {
   "cell_type": "code",
   "execution_count": 8,
   "metadata": {},
   "outputs": [],
   "source": [
    "# There are no cities with humidity greater than 100 in the data"
   ]
  },
  {
   "cell_type": "markdown",
   "metadata": {},
   "source": [
    "## Plotting the Data\n",
    "* Use proper labeling of the plots using plot titles (including date of analysis) and axes labels.\n",
    "* Save the plotted figures as .pngs."
   ]
  },
  {
   "cell_type": "markdown",
   "metadata": {},
   "source": [
    "## Latitude vs. Temperature Plot"
   ]
  },
  {
   "cell_type": "code",
   "execution_count": 8,
   "metadata": {
    "scrolled": true
   },
   "outputs": [
    {
     "data": {
      "image/png": "[encoded data removed]",
      "text/plain": [
       "<Figure size 432x288 with 1 Axes>"
      ]
     },
     "metadata": {
      "needs_background": "light"
     },
     "output_type": "display_data"
    }
   ],
   "source": [
    "#Plot latitude vs temperature and save as .png\n",
    "\n",
    "plt.scatter(city_df['Lat'], city_df['Max Temp'])\n",
    "plt.title(f'City Latitude vs. Temperature')\n",
    "plt.xlabel('Latitude')\n",
    "plt.ylabel('Temperature (F)')\n",
    "plt.grid(True)\n",
    "plt.savefig('lat_temp.png', bbox_inches='tight')\n",
    "plt.show()"
   ]
  },
  {
   "cell_type": "markdown",
   "metadata": {},
   "source": [
    "## Latitude vs. Humidity Plot"
   ]
  },
  {
   "cell_type": "code",
   "execution_count": 9,
   "metadata": {},
   "outputs": [
    {
     "data": {
      "image/png": "[encoded data removed]",
      "text/plain": [
       "<Figure size 432x288 with 1 Axes>"
      ]
     },
     "metadata": {
      "needs_background": "light"
     },
     "output_type": "display_data"
    }
   ],
   "source": [
    "#Plot latitude vs humidity and save as .png\n",
    "plt.scatter(city_df['Lat'], city_df['Humidity'])\n",
    "plt.title(f'City Latitude vs. Humidity')\n",
    "plt.xlabel('Latitude')\n",
    "plt.ylabel('Humidity (%)')\n",
    "plt.grid(True)\n",
    "plt.savefig('lat_humid.png', bbox_inches='tight')\n",
    "plt.show()"
   ]
  },
  {
   "cell_type": "markdown",
   "metadata": {},
   "source": [
    "## Latitude vs. Cloudiness Plot"
   ]
  },
  {
   "cell_type": "code",
   "execution_count": 10,
   "metadata": {},
   "outputs": [
    {
     "data": {
      "image/png": "[encoded data removed]",
      "text/plain": [
       "<Figure size 432x288 with 1 Axes>"
      ]
     },
     "metadata": {
      "needs_background": "light"
     },
     "output_type": "display_data"
    }
   ],
   "source": [
    "#Plot latitude vs cloudiness and save as .png\n",
    "plt.scatter(city_df['Lat'], city_df['Cloudiness'])\n",
    "plt.title(f'City Latitude vs. Cloudiness')\n",
    "plt.xlabel('Latitude')\n",
    "plt.ylabel('Cloudiness (%)')\n",
    "plt.grid(True)\n",
    "plt.savefig('lat_cloud.png', bbox_inches='tight')\n",
    "plt.show()"
   ]
  },
  {
   "cell_type": "markdown",
   "metadata": {},
   "source": [
    "## Latitude vs. Wind Speed Plot"
   ]
  },
  {
   "cell_type": "code",
   "execution_count": 11,
   "metadata": {},
   "outputs": [
    {
     "data": {
      "image/png": "[encoded data removed]",
      "text/plain": [
       "<Figure size 432x288 with 1 Axes>"
      ]
     },
     "metadata": {
      "needs_background": "light"
     },
     "output_type": "display_data"
    }
   ],
   "source": [
    "#Plot latitude vs wind speed and save as .png\n",
    "plt.scatter(city_df['Lat'], city_df['Wind Speed'])\n",
    "plt.title(f'City Latitude vs. Wind Speed')\n",
    "plt.xlabel('Latitude')\n",
    "plt.ylabel('Wind Speed (mph)')\n",
    "plt.grid(True)\n",
    "plt.savefig('lat_wind.png', bbox_inches='tight')\n",
    "plt.show()"
   ]
  },
  {
   "cell_type": "markdown",
   "metadata": {},
   "source": [
    "## Linear Regression"
   ]
  },
  {
   "cell_type": "code",
   "execution_count": 12,
   "metadata": {},
   "outputs": [
    {
     "data": {
      "text/html": [
       "<div>\n",
       "<style scoped>\n",
       "    .dataframe tbody tr th:only-of-type {\n",
       "        vertical-align: middle;\n",
       "    }\n",
       "\n",
       "    .dataframe tbody tr th {\n",
       "        vertical-align: top;\n",
       "    }\n",
       "\n",
       "    .dataframe thead th {\n",
       "        text-align: right;\n",
       "    }\n",
       "</style>\n",
       "<table border=\"1\" class=\"dataframe\">\n",
       "  <thead>\n",
       "    <tr style=\"text-align: right;\">\n",
       "      <th></th>\n",
       "      <th>City</th>\n",
       "      <th>Cloudiness</th>\n",
       "      <th>Date</th>\n",
       "      <th>Humidity</th>\n",
       "      <th>Lat</th>\n",
       "      <th>Lng</th>\n",
       "      <th>Max Temp</th>\n",
       "      <th>Wind Speed</th>\n",
       "      <th>Country</th>\n",
       "    </tr>\n",
       "  </thead>\n",
       "  <tbody>\n",
       "    <tr>\n",
       "      <th>3</th>\n",
       "      <td>Yellowknife</td>\n",
       "      <td>75</td>\n",
       "      <td>1598756443</td>\n",
       "      <td>81</td>\n",
       "      <td>62.46</td>\n",
       "      <td>-114.35</td>\n",
       "      <td>46.40</td>\n",
       "      <td>18.34</td>\n",
       "      <td>CA</td>\n",
       "    </tr>\n",
       "    <tr>\n",
       "      <th>8</th>\n",
       "      <td>Severo-Kuril'sk</td>\n",
       "      <td>47</td>\n",
       "      <td>1598756681</td>\n",
       "      <td>78</td>\n",
       "      <td>50.68</td>\n",
       "      <td>156.12</td>\n",
       "      <td>52.95</td>\n",
       "      <td>10.94</td>\n",
       "      <td>RU</td>\n",
       "    </tr>\n",
       "    <tr>\n",
       "      <th>9</th>\n",
       "      <td>Cherskiy</td>\n",
       "      <td>100</td>\n",
       "      <td>1598756573</td>\n",
       "      <td>79</td>\n",
       "      <td>68.75</td>\n",
       "      <td>161.30</td>\n",
       "      <td>44.17</td>\n",
       "      <td>8.10</td>\n",
       "      <td>RU</td>\n",
       "    </tr>\n",
       "    <tr>\n",
       "      <th>10</th>\n",
       "      <td>Thompson</td>\n",
       "      <td>75</td>\n",
       "      <td>1598756461</td>\n",
       "      <td>81</td>\n",
       "      <td>55.74</td>\n",
       "      <td>-97.86</td>\n",
       "      <td>53.60</td>\n",
       "      <td>4.70</td>\n",
       "      <td>CA</td>\n",
       "    </tr>\n",
       "    <tr>\n",
       "      <th>11</th>\n",
       "      <td>Sulangan</td>\n",
       "      <td>97</td>\n",
       "      <td>1598756681</td>\n",
       "      <td>71</td>\n",
       "      <td>11.14</td>\n",
       "      <td>123.72</td>\n",
       "      <td>84.51</td>\n",
       "      <td>6.71</td>\n",
       "      <td>PH</td>\n",
       "    </tr>\n",
       "  </tbody>\n",
       "</table>\n",
       "</div>"
      ],
      "text/plain": [
       "               City  Cloudiness        Date  Humidity    Lat     Lng  \\\n",
       "3       Yellowknife          75  1598756443        81  62.46 -114.35   \n",
       "8   Severo-Kuril'sk          47  1598756681        78  50.68  156.12   \n",
       "9          Cherskiy         100  1598756573        79  68.75  161.30   \n",
       "10         Thompson          75  1598756461        81  55.74  -97.86   \n",
       "11         Sulangan          97  1598756681        71  11.14  123.72   \n",
       "\n",
       "    Max Temp  Wind Speed Country  \n",
       "3      46.40       18.34      CA  \n",
       "8      52.95       10.94      RU  \n",
       "9      44.17        8.10      RU  \n",
       "10     53.60        4.70      CA  \n",
       "11     84.51        6.71      PH  "
      ]
     },
     "execution_count": 12,
     "metadata": {},
     "output_type": "execute_result"
    }
   ],
   "source": [
    "north_hem = city_df[city_df['Lat'] >= 0]\n",
    "north_hem.head()"
   ]
  },
  {
   "cell_type": "markdown",
   "metadata": {},
   "source": [
    "####  Northern Hemisphere - Max Temp vs. Latitude Linear Regression"
   ]
  },
  {
   "cell_type": "code",
   "execution_count": 13,
   "metadata": {},
   "outputs": [
    {
     "data": {
      "image/png": "[encoded data removed]",
      "text/plain": [
       "<Figure size 432x288 with 1 Axes>"
      ]
     },
     "metadata": {
      "needs_background": "light"
     },
     "output_type": "display_data"
    }
   ],
   "source": [
    "# Add the linear regression equation and line to plot\n",
    "x_values = north_hem['Lat']\n",
    "y_values = north_hem['Max Temp']\n",
    "(slope, intercept, rvalue, pvalue, stderr) = linregress(x_values, y_values)\n",
    "regress_values = x_values * slope + intercept\n",
    "line_eq = \"y = \" + str(round(slope,2)) + \"x + \" + str(round(intercept,2))\n",
    "plt.scatter(x_values,y_values)\n",
    "plt.plot(x_values,regress_values,\"r-\")\n",
    "plt.annotate(line_eq,(6,10),fontsize=15,color=\"red\")\n",
    "plt.xlabel('Latitude')\n",
    "plt.ylabel('Temperature (F)')\n",
    "plt.savefig('north_lat_temp.png', bbox_inches='tight')\n",
    "plt.show()\n"
   ]
  },
  {
   "cell_type": "markdown",
   "metadata": {},
   "source": [
    "####  Southern Hemisphere - Max Temp vs. Latitude Linear Regression"
   ]
  },
  {
   "cell_type": "code",
   "execution_count": 14,
   "metadata": {},
   "outputs": [
    {
     "data": {
      "text/html": [
       "<div>\n",
       "<style scoped>\n",
       "    .dataframe tbody tr th:only-of-type {\n",
       "        vertical-align: middle;\n",
       "    }\n",
       "\n",
       "    .dataframe tbody tr th {\n",
       "        vertical-align: top;\n",
       "    }\n",
       "\n",
       "    .dataframe thead th {\n",
       "        text-align: right;\n",
       "    }\n",
       "</style>\n",
       "<table border=\"1\" class=\"dataframe\">\n",
       "  <thead>\n",
       "    <tr style=\"text-align: right;\">\n",
       "      <th></th>\n",
       "      <th>City</th>\n",
       "      <th>Cloudiness</th>\n",
       "      <th>Date</th>\n",
       "      <th>Humidity</th>\n",
       "      <th>Lat</th>\n",
       "      <th>Lng</th>\n",
       "      <th>Max Temp</th>\n",
       "      <th>Wind Speed</th>\n",
       "      <th>Country</th>\n",
       "    </tr>\n",
       "  </thead>\n",
       "  <tbody>\n",
       "    <tr>\n",
       "      <th>0</th>\n",
       "      <td>Cape Town</td>\n",
       "      <td>75</td>\n",
       "      <td>1598756403</td>\n",
       "      <td>93</td>\n",
       "      <td>-33.93</td>\n",
       "      <td>18.42</td>\n",
       "      <td>39.20</td>\n",
       "      <td>2.24</td>\n",
       "      <td>ZA</td>\n",
       "    </tr>\n",
       "    <tr>\n",
       "      <th>1</th>\n",
       "      <td>Te Anau</td>\n",
       "      <td>100</td>\n",
       "      <td>1598756455</td>\n",
       "      <td>71</td>\n",
       "      <td>-45.42</td>\n",
       "      <td>167.72</td>\n",
       "      <td>51.89</td>\n",
       "      <td>7.18</td>\n",
       "      <td>NZ</td>\n",
       "    </tr>\n",
       "    <tr>\n",
       "      <th>2</th>\n",
       "      <td>Ushuaia</td>\n",
       "      <td>90</td>\n",
       "      <td>1598756461</td>\n",
       "      <td>91</td>\n",
       "      <td>-54.80</td>\n",
       "      <td>-68.30</td>\n",
       "      <td>32.00</td>\n",
       "      <td>20.80</td>\n",
       "      <td>AR</td>\n",
       "    </tr>\n",
       "    <tr>\n",
       "      <th>4</th>\n",
       "      <td>Rikitea</td>\n",
       "      <td>10</td>\n",
       "      <td>1598756680</td>\n",
       "      <td>76</td>\n",
       "      <td>-23.12</td>\n",
       "      <td>-134.97</td>\n",
       "      <td>70.12</td>\n",
       "      <td>7.45</td>\n",
       "      <td>PF</td>\n",
       "    </tr>\n",
       "    <tr>\n",
       "      <th>5</th>\n",
       "      <td>Kimbe</td>\n",
       "      <td>3</td>\n",
       "      <td>1598756680</td>\n",
       "      <td>53</td>\n",
       "      <td>-5.55</td>\n",
       "      <td>150.14</td>\n",
       "      <td>91.40</td>\n",
       "      <td>10.87</td>\n",
       "      <td>PG</td>\n",
       "    </tr>\n",
       "  </tbody>\n",
       "</table>\n",
       "</div>"
      ],
      "text/plain": [
       "        City  Cloudiness        Date  Humidity    Lat     Lng  Max Temp  \\\n",
       "0  Cape Town          75  1598756403        93 -33.93   18.42     39.20   \n",
       "1    Te Anau         100  1598756455        71 -45.42  167.72     51.89   \n",
       "2    Ushuaia          90  1598756461        91 -54.80  -68.30     32.00   \n",
       "4    Rikitea          10  1598756680        76 -23.12 -134.97     70.12   \n",
       "5      Kimbe           3  1598756680        53  -5.55  150.14     91.40   \n",
       "\n",
       "   Wind Speed Country  \n",
       "0        2.24      ZA  \n",
       "1        7.18      NZ  \n",
       "2       20.80      AR  \n",
       "4        7.45      PF  \n",
       "5       10.87      PG  "
      ]
     },
     "execution_count": 14,
     "metadata": {},
     "output_type": "execute_result"
    }
   ],
   "source": [
    "south_hem = city_df[city_df['Lat'] < 0]\n",
    "south_hem.head()"
   ]
  },
  {
   "cell_type": "code",
   "execution_count": 15,
   "metadata": {},
   "outputs": [
    {
     "data": {
      "image/png": "[encoded data removed]",
      "text/plain": [
       "<Figure size 432x288 with 1 Axes>"
      ]
     },
     "metadata": {
      "needs_background": "light"
     },
     "output_type": "display_data"
    }
   ],
   "source": [
    "# Add the linear regression equation and line to plot\n",
    "x_values = south_hem['Lat']\n",
    "y_values = south_hem['Max Temp']\n",
    "(slope, intercept, rvalue, pvalue, stderr) = linregress(x_values, y_values)\n",
    "regress_values = x_values * slope + intercept\n",
    "line_eq = \"y = \" + str(round(slope,2)) + \"x + \" + str(round(intercept,2))\n",
    "plt.scatter(x_values,y_values)\n",
    "plt.plot(x_values,regress_values,\"r-\")\n",
    "plt.annotate(line_eq,(6,10),fontsize=15,color=\"red\")\n",
    "plt.xlabel('Latitude')\n",
    "plt.ylabel('Temperature (F)')\n",
    "plt.savefig('south_lat_temp.png')\n",
    "plt.show()"
   ]
  },
  {
   "cell_type": "markdown",
   "metadata": {},
   "source": [
    "####  Northern Hemisphere - Humidity (%) vs. Latitude Linear Regression"
   ]
  },
  {
   "cell_type": "code",
   "execution_count": 16,
   "metadata": {},
   "outputs": [
    {
     "data": {
      "image/png": "[encoded data removed]",
      "text/plain": [
       "<Figure size 432x288 with 1 Axes>"
      ]
     },
     "metadata": {
      "needs_background": "light"
     },
     "output_type": "display_data"
    }
   ],
   "source": [
    "# Add the linear regression equation and line to plot\n",
    "x_values = north_hem['Lat']\n",
    "y_values = north_hem['Humidity']\n",
    "(slope, intercept, rvalue, pvalue, stderr) = linregress(x_values, y_values)\n",
    "regress_values = x_values * slope + intercept\n",
    "line_eq = \"y = \" + str(round(slope,2)) + \"x + \" + str(round(intercept,2))\n",
    "plt.scatter(x_values,y_values)\n",
    "plt.plot(x_values,regress_values,\"r-\")\n",
    "plt.annotate(line_eq,(6,10),fontsize=15,color=\"red\")\n",
    "plt.xlabel('Latitude')\n",
    "plt.ylabel('Humidity')\n",
    "plt.savefig('north_lat_hum.png')\n",
    "plt.show()"
   ]
  },
  {
   "cell_type": "markdown",
   "metadata": {},
   "source": [
    "####  Southern Hemisphere - Humidity (%) vs. Latitude Linear Regression"
   ]
  },
  {
   "cell_type": "code",
   "execution_count": 17,
   "metadata": {},
   "outputs": [
    {
     "data": {
      "image/png": "[encoded data removed]",
      "text/plain": [
       "<Figure size 432x288 with 1 Axes>"
      ]
     },
     "metadata": {
      "needs_background": "light"
     },
     "output_type": "display_data"
    }
   ],
   "source": [
    "# Add the linear regression equation and line to plot\n",
    "x_values = south_hem['Lat']\n",
    "y_values = south_hem['Humidity']\n",
    "(slope, intercept, rvalue, pvalue, stderr) = linregress(x_values, y_values)\n",
    "regress_values = x_values * slope + intercept\n",
    "line_eq = \"y = \" + str(round(slope,2)) + \"x + \" + str(round(intercept,2))\n",
    "plt.scatter(x_values,y_values)\n",
    "plt.plot(x_values,regress_values,\"r-\")\n",
    "plt.annotate(line_eq,(6,10),fontsize=15,color=\"red\")\n",
    "plt.xlabel('Latitude')\n",
    "plt.ylabel('Humidity')\n",
    "plt.savefig('south_lat_hum.png')\n",
    "plt.show()"
   ]
  },
  {
   "cell_type": "markdown",
   "metadata": {},
   "source": [
    "####  Northern Hemisphere - Cloudiness (%) vs. Latitude Linear Regression"
   ]
  },
  {
   "cell_type": "code",
   "execution_count": 18,
   "metadata": {},
   "outputs": [
    {
     "data": {
      "image/png": "[encoded data removed]",
      "text/plain": [
       "<Figure size 432x288 with 1 Axes>"
      ]
     },
     "metadata": {
      "needs_background": "light"
     },
     "output_type": "display_data"
    }
   ],
   "source": [
    "# Add the linear regression equation and line to plot\n",
    "x_values = north_hem['Lat']\n",
    "y_values = north_hem['Cloudiness']\n",
    "(slope, intercept, rvalue, pvalue, stderr) = linregress(x_values, y_values)\n",
    "regress_values = x_values * slope + intercept\n",
    "line_eq = \"y = \" + str(round(slope,2)) + \"x + \" + str(round(intercept,2))\n",
    "plt.scatter(x_values,y_values)\n",
    "plt.plot(x_values,regress_values,\"r-\")\n",
    "plt.annotate(line_eq,(6,10),fontsize=15,color=\"red\")\n",
    "plt.xlabel('Latitude')\n",
    "plt.ylabel('CLoudiness (F)')\n",
    "plt.savefig('north_lat_cloud.png')\n",
    "plt.show()"
   ]
  },
  {
   "cell_type": "markdown",
   "metadata": {},
   "source": [
    "####  Southern Hemisphere - Cloudiness (%) vs. Latitude Linear Regression"
   ]
  },
  {
   "cell_type": "code",
   "execution_count": 19,
   "metadata": {},
   "outputs": [
    {
     "data": {
      "image/png": "[encoded data removed]",
      "text/plain": [
       "<Figure size 432x288 with 1 Axes>"
      ]
     },
     "metadata": {
      "needs_background": "light"
     },
     "output_type": "display_data"
    }
   ],
   "source": [
    "# Add the linear regression equation and line to plot\n",
    "x_values = south_hem['Lat']\n",
    "y_values = south_hem['Cloudiness']\n",
    "(slope, intercept, rvalue, pvalue, stderr) = linregress(x_values, y_values)\n",
    "regress_values = x_values * slope + intercept\n",
    "line_eq = \"y = \" + str(round(slope,2)) + \"x + \" + str(round(intercept,2))\n",
    "plt.scatter(x_values,y_values)\n",
    "plt.plot(x_values,regress_values,\"r-\")\n",
    "plt.annotate(line_eq,(6,10),fontsize=15,color=\"red\")\n",
    "plt.xlabel('Latitude')\n",
    "plt.ylabel('CLoudiness (F)')\n",
    "plt.savefig('south_lat_cloud.png')\n",
    "plt.show()"
   ]
  },
  {
   "cell_type": "markdown",
   "metadata": {},
   "source": [
    "####  Northern Hemisphere - Wind Speed (mph) vs. Latitude Linear Regression"
   ]
  },
  {
   "cell_type": "code",
   "execution_count": 20,
   "metadata": {},
   "outputs": [
    {
     "data": {
      "image/png": "[encoded data removed]",
      "text/plain": [
       "<Figure size 432x288 with 1 Axes>"
      ]
     },
     "metadata": {
      "needs_background": "light"
     },
     "output_type": "display_data"
    }
   ],
   "source": [
    "# Add the linear regression equation and line to plot\n",
    "x_values = north_hem['Lat']\n",
    "y_values = north_hem['Wind Speed']\n",
    "(slope, intercept, rvalue, pvalue, stderr) = linregress(x_values, y_values)\n",
    "regress_values = x_values * slope + intercept\n",
    "line_eq = \"y = \" + str(round(slope,2)) + \"x + \" + str(round(intercept,2))\n",
    "plt.scatter(x_values,y_values)\n",
    "plt.plot(x_values,regress_values,\"r-\")\n",
    "plt.annotate(line_eq,(6,10),fontsize=15,color=\"red\")\n",
    "plt.xlabel('Latitude')\n",
    "plt.ylabel('Wind Speed')\n",
    "plt.savefig('north_lat_wind.png')\n",
    "plt.show()"
   ]
  },
  {
   "cell_type": "markdown",
   "metadata": {},
   "source": [
    "####  Southern Hemisphere - Wind Speed (mph) vs. Latitude Linear Regression"
   ]
  },
  {
   "cell_type": "code",
   "execution_count": 21,
   "metadata": {},
   "outputs": [
    {
     "data": {
      "image/png": "[encoded data removed]",
      "text/plain": [
       "<Figure size 432x288 with 1 Axes>"
      ]
     },
     "metadata": {
      "needs_background": "light"
     },
     "output_type": "display_data"
    }
   ],
   "source": [
    "# Add the linear regression equation and line to plot\n",
    "x_values = south_hem['Lat']\n",
    "y_values = south_hem['Wind Speed']\n",
    "(slope, intercept, rvalue, pvalue, stderr) = linregress(x_values, y_values)\n",
    "regress_values = x_values * slope + intercept\n",
    "line_eq = \"y = \" + str(round(slope,2)) + \"x + \" + str(round(intercept,2))\n",
    "plt.scatter(x_values,y_values)\n",
    "plt.plot(x_values,regress_values,\"r-\")\n",
    "plt.annotate(line_eq,(6,10),fontsize=15,color=\"red\")\n",
    "plt.xlabel('Latitude')\n",
    "plt.ylabel('Wind Speed')\n",
    "\n",
    "plt.savefig('south_lat_wind.png')\n",
    "plt.show()"
   ]
  },
  {
   "cell_type": "code",
   "execution_count": null,
   "metadata": {},
   "outputs": [],
   "source": []
  }
 ],
 "metadata": {
  "anaconda-cloud": {},
  "kernel_info": {
   "name": "python3"
  },
  "kernelspec": {
   "display_name": "Python 3",
   "language": "python",
   "name": "python3"
  },
  "language_info": {
   "codemirror_mode": {
    "name": "ipython",
    "version": 3
   },
   "file_extension": ".py",
   "mimetype": "text/x-python",
   "name": "python",
   "nbconvert_exporter": "python",
   "pygments_lexer": "ipython3",
   "version": "3.8.3"
  },
  "latex_envs": {
   "LaTeX_envs_menu_present": true,
   "autoclose": false,
   "autocomplete": true,
   "bibliofile": "biblio.bib",
   "cite_by": "apalike",
   "current_citInitial": 1,
   "eqLabelWithNumbers": true,
   "eqNumInitial": 1,
   "hotkeys": {
    "equation": "Ctrl-E",
    "itemize": "Ctrl-I"
   },
   "labels_anchors": false,
   "latex_user_defs": false,
   "report_style_numbering": false,
   "user_envs_cfg": false
  },
  "nteract": {
   "version": "0.12.3"
  }
 },
 "nbformat": 4,
 "nbformat_minor": 2
}
